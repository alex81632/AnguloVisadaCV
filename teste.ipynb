{
 "cells": [
  {
   "cell_type": "code",
   "execution_count": 37,
   "metadata": {},
   "outputs": [],
   "source": [
    "import pandas as pd\n",
    "import numpy as np"
   ]
  },
  {
   "cell_type": "code",
   "execution_count": 38,
   "metadata": {},
   "outputs": [
    {
     "data": {
      "text/html": [
       "<div>\n",
       "<style scoped>\n",
       "    .dataframe tbody tr th:only-of-type {\n",
       "        vertical-align: middle;\n",
       "    }\n",
       "\n",
       "    .dataframe tbody tr th {\n",
       "        vertical-align: top;\n",
       "    }\n",
       "\n",
       "    .dataframe thead th {\n",
       "        text-align: right;\n",
       "    }\n",
       "</style>\n",
       "<table border=\"1\" class=\"dataframe\">\n",
       "  <thead>\n",
       "    <tr style=\"text-align: right;\">\n",
       "      <th></th>\n",
       "      <th>x</th>\n",
       "      <th>y</th>\n",
       "      <th>z</th>\n",
       "      <th>atencao</th>\n",
       "    </tr>\n",
       "  </thead>\n",
       "  <tbody>\n",
       "    <tr>\n",
       "      <th>0</th>\n",
       "      <td>[-0.03062876]</td>\n",
       "      <td>[0.01234632]</td>\n",
       "      <td>[0.10522266]</td>\n",
       "      <td>1</td>\n",
       "    </tr>\n",
       "    <tr>\n",
       "      <th>1</th>\n",
       "      <td>[-0.05021764]</td>\n",
       "      <td>[-0.00344829]</td>\n",
       "      <td>[0.05206432]</td>\n",
       "      <td>1</td>\n",
       "    </tr>\n",
       "    <tr>\n",
       "      <th>2</th>\n",
       "      <td>[-0.04414475]</td>\n",
       "      <td>[0.00757144]</td>\n",
       "      <td>[0.04588152]</td>\n",
       "      <td>1</td>\n",
       "    </tr>\n",
       "    <tr>\n",
       "      <th>3</th>\n",
       "      <td>[-0.0391862]</td>\n",
       "      <td>[0.01703393]</td>\n",
       "      <td>[0.07674838]</td>\n",
       "      <td>1</td>\n",
       "    </tr>\n",
       "    <tr>\n",
       "      <th>4</th>\n",
       "      <td>[-0.03136803]</td>\n",
       "      <td>[0.01653976]</td>\n",
       "      <td>[0.04938307]</td>\n",
       "      <td>1</td>\n",
       "    </tr>\n",
       "  </tbody>\n",
       "</table>\n",
       "</div>"
      ],
      "text/plain": [
       "               x              y             z  atencao\n",
       "0  [-0.03062876]   [0.01234632]  [0.10522266]        1\n",
       "1  [-0.05021764]  [-0.00344829]  [0.05206432]        1\n",
       "2  [-0.04414475]   [0.00757144]  [0.04588152]        1\n",
       "3   [-0.0391862]   [0.01703393]  [0.07674838]        1\n",
       "4  [-0.03136803]   [0.01653976]  [0.04938307]        1"
      ]
     },
     "execution_count": 38,
     "metadata": {},
     "output_type": "execute_result"
    }
   ],
   "source": [
    "# fazer regressor do dados_rotacao.csv\n",
    "df = pd.read_csv('dados_rotacao.csv')\n",
    "df.head()"
   ]
  },
  {
   "cell_type": "code",
   "execution_count": 39,
   "metadata": {},
   "outputs": [
    {
     "name": "stdout",
     "output_type": "stream",
     "text": [
      "          x         y         z  atencao\n",
      "0 -0.030629  0.012346  0.105223        1\n",
      "1 -0.050218 -0.003448  0.052064        1\n",
      "2 -0.044145  0.007571  0.045882        1\n",
      "3 -0.039186  0.017034  0.076748        1\n",
      "4 -0.031368  0.016540  0.049383        1\n"
     ]
    }
   ],
   "source": [
    "# retirar os [] das colunas x, y e z\n",
    "df['x'] = df['x'].str.replace('[', '')\n",
    "df['y'] = df['y'].str.replace('[', '')\n",
    "df['z'] = df['z'].str.replace('[', '')\n",
    "\n",
    "df['x'] = df['x'].str.replace(']', '')\n",
    "df['y'] = df['y'].str.replace(']', '')\n",
    "df['z'] = df['z'].str.replace(']', '')\n",
    "\n",
    "# converter as colunas x, y e z para float\n",
    "df['x'] = df['x'].astype(float)\n",
    "df['y'] = df['y'].astype(float)\n",
    "df['z'] = df['z'].astype(float)\n",
    "\n",
    "# converter a coluna atencao para int\n",
    "df['atencao'] = df['atencao'].astype(int)\n",
    "\n",
    "print(df.head())"
   ]
  },
  {
   "cell_type": "code",
   "execution_count": 40,
   "metadata": {},
   "outputs": [],
   "source": [
    "# separar os dados de treino e teste\n",
    "from sklearn.model_selection import train_test_split\n",
    "\n",
    "X = df[['x', 'y', 'z']]\n",
    "y = df['atencao']\n",
    "\n",
    "X_train, X_test, y_train, y_test = train_test_split(X, y, test_size=0.3)"
   ]
  },
  {
   "cell_type": "code",
   "execution_count": 41,
   "metadata": {},
   "outputs": [
    {
     "data": {
      "text/html": [
       "<div>\n",
       "<style scoped>\n",
       "    .dataframe tbody tr th:only-of-type {\n",
       "        vertical-align: middle;\n",
       "    }\n",
       "\n",
       "    .dataframe tbody tr th {\n",
       "        vertical-align: top;\n",
       "    }\n",
       "\n",
       "    .dataframe thead th {\n",
       "        text-align: right;\n",
       "    }\n",
       "</style>\n",
       "<table border=\"1\" class=\"dataframe\">\n",
       "  <thead>\n",
       "    <tr style=\"text-align: right;\">\n",
       "      <th></th>\n",
       "      <th>x</th>\n",
       "      <th>y</th>\n",
       "      <th>z</th>\n",
       "    </tr>\n",
       "  </thead>\n",
       "  <tbody>\n",
       "    <tr>\n",
       "      <th>67</th>\n",
       "      <td>0.221544</td>\n",
       "      <td>0.033244</td>\n",
       "      <td>0.239346</td>\n",
       "    </tr>\n",
       "    <tr>\n",
       "      <th>1</th>\n",
       "      <td>-0.050218</td>\n",
       "      <td>-0.003448</td>\n",
       "      <td>0.052064</td>\n",
       "    </tr>\n",
       "    <tr>\n",
       "      <th>21</th>\n",
       "      <td>-0.012444</td>\n",
       "      <td>0.045520</td>\n",
       "      <td>-0.013153</td>\n",
       "    </tr>\n",
       "    <tr>\n",
       "      <th>0</th>\n",
       "      <td>-0.030629</td>\n",
       "      <td>0.012346</td>\n",
       "      <td>0.105223</td>\n",
       "    </tr>\n",
       "    <tr>\n",
       "      <th>32</th>\n",
       "      <td>0.022915</td>\n",
       "      <td>0.016190</td>\n",
       "      <td>-0.374180</td>\n",
       "    </tr>\n",
       "  </tbody>\n",
       "</table>\n",
       "</div>"
      ],
      "text/plain": [
       "           x         y         z\n",
       "67  0.221544  0.033244  0.239346\n",
       "1  -0.050218 -0.003448  0.052064\n",
       "21 -0.012444  0.045520 -0.013153\n",
       "0  -0.030629  0.012346  0.105223\n",
       "32  0.022915  0.016190 -0.374180"
      ]
     },
     "execution_count": 41,
     "metadata": {},
     "output_type": "execute_result"
    }
   ],
   "source": [
    "X_train.head()"
   ]
  },
  {
   "cell_type": "code",
   "execution_count": 42,
   "metadata": {},
   "outputs": [
    {
     "name": "stdout",
     "output_type": "stream",
     "text": [
      "[21:56:32] WARNING: C:/Users/Administrator/workspace/xgboost-win64_release_1.5.1/src/learner.cc:1115: Starting in XGBoost 1.3.0, the default evaluation metric used with the objective 'binary:logistic' was changed from 'error' to 'logloss'. Explicitly set eval_metric if you'd like to restore the old behavior.\n",
      "Accuracy: 1.0\n"
     ]
    },
    {
     "name": "stderr",
     "output_type": "stream",
     "text": [
      "c:\\Users\\alexa\\anaconda3\\envs\\py36\\lib\\site-packages\\xgboost\\sklearn.py:1224: UserWarning: The use of label encoder in XGBClassifier is deprecated and will be removed in a future release. To remove this warning, do the following: 1) Pass option use_label_encoder=False when constructing XGBClassifier object; and 2) Encode your labels (y) as integers starting with 0, i.e. 0, 1, 2, ..., [num_class - 1].\n",
      "  warnings.warn(label_encoder_deprecation_msg, UserWarning)\n"
     ]
    }
   ],
   "source": [
    "# testar com xgbooost\n",
    "from xgboost import XGBClassifier\n",
    "\n",
    "xgb = XGBClassifier()\n",
    "\n",
    "xgb.fit(X_train, y_train)\n",
    "\n",
    "predictions = xgb.predict(X_test)\n",
    "\n",
    "# print the accuracy\n",
    "from sklearn import metrics\n",
    "\n",
    "print(\"Accuracy:\", metrics.accuracy_score(y_test, predictions))"
   ]
  },
  {
   "cell_type": "code",
   "execution_count": 43,
   "metadata": {},
   "outputs": [],
   "source": [
    "# salvar o modelo\n",
    "import pickle\n",
    "\n",
    "pickle.dump(xgb, open('model.pkl', 'wb'))"
   ]
  },
  {
   "cell_type": "code",
   "execution_count": 46,
   "metadata": {},
   "outputs": [
    {
     "name": "stdout",
     "output_type": "stream",
     "text": [
      "[1]\n"
     ]
    }
   ],
   "source": [
    "# carregar o modelo\n",
    "model = pickle.load(open('model.pkl', 'rb'))\n",
    "\n",
    "values = np.array([[0.0, 0.0, 0.0]])\n",
    "\n",
    "columns = ['x', 'y', 'z']\n",
    "\n",
    "df = pd.DataFrame(values, columns=columns)\n",
    "# testar o modelo\n",
    "print(model.predict(df))"
   ]
  }
 ],
 "metadata": {
  "kernelspec": {
   "display_name": "py36",
   "language": "python",
   "name": "python3"
  },
  "language_info": {
   "codemirror_mode": {
    "name": "ipython",
    "version": 3
   },
   "file_extension": ".py",
   "mimetype": "text/x-python",
   "name": "python",
   "nbconvert_exporter": "python",
   "pygments_lexer": "ipython3",
   "version": "3.6.13"
  },
  "orig_nbformat": 4
 },
 "nbformat": 4,
 "nbformat_minor": 2
}

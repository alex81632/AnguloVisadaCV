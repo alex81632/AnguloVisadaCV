{
 "cells": [
  {
   "cell_type": "code",
   "execution_count": 9,
   "metadata": {},
   "outputs": [],
   "source": [
    "import pandas as pd\n",
    "import numpy as np"
   ]
  },
  {
   "cell_type": "code",
   "execution_count": 10,
   "metadata": {},
   "outputs": [
    {
     "data": {
      "text/html": [
       "<div>\n",
       "<style scoped>\n",
       "    .dataframe tbody tr th:only-of-type {\n",
       "        vertical-align: middle;\n",
       "    }\n",
       "\n",
       "    .dataframe tbody tr th {\n",
       "        vertical-align: top;\n",
       "    }\n",
       "\n",
       "    .dataframe thead th {\n",
       "        text-align: right;\n",
       "    }\n",
       "</style>\n",
       "<table border=\"1\" class=\"dataframe\">\n",
       "  <thead>\n",
       "    <tr style=\"text-align: right;\">\n",
       "      <th></th>\n",
       "      <th>x</th>\n",
       "      <th>y</th>\n",
       "      <th>z</th>\n",
       "      <th>atencao</th>\n",
       "    </tr>\n",
       "  </thead>\n",
       "  <tbody>\n",
       "    <tr>\n",
       "      <th>0</th>\n",
       "      <td>[0.03608509]</td>\n",
       "      <td>[-0.03886828]</td>\n",
       "      <td>[-0.41614208]</td>\n",
       "      <td>1</td>\n",
       "    </tr>\n",
       "    <tr>\n",
       "      <th>1</th>\n",
       "      <td>[-0.04690279]</td>\n",
       "      <td>[-0.0243437]</td>\n",
       "      <td>[0.20339185]</td>\n",
       "      <td>1</td>\n",
       "    </tr>\n",
       "    <tr>\n",
       "      <th>2</th>\n",
       "      <td>[0.03614752]</td>\n",
       "      <td>[-0.00925064]</td>\n",
       "      <td>[0.73575923]</td>\n",
       "      <td>1</td>\n",
       "    </tr>\n",
       "    <tr>\n",
       "      <th>3</th>\n",
       "      <td>[0.09613479]</td>\n",
       "      <td>[-0.0026803]</td>\n",
       "      <td>[0.51149467]</td>\n",
       "      <td>1</td>\n",
       "    </tr>\n",
       "    <tr>\n",
       "      <th>4</th>\n",
       "      <td>[0.1167205]</td>\n",
       "      <td>[-0.00425758]</td>\n",
       "      <td>[0.56973179]</td>\n",
       "      <td>1</td>\n",
       "    </tr>\n",
       "  </tbody>\n",
       "</table>\n",
       "</div>"
      ],
      "text/plain": [
       "               x              y              z  atencao\n",
       "0   [0.03608509]  [-0.03886828]  [-0.41614208]        1\n",
       "1  [-0.04690279]   [-0.0243437]   [0.20339185]        1\n",
       "2   [0.03614752]  [-0.00925064]   [0.73575923]        1\n",
       "3   [0.09613479]   [-0.0026803]   [0.51149467]        1\n",
       "4    [0.1167205]  [-0.00425758]   [0.56973179]        1"
      ]
     },
     "execution_count": 10,
     "metadata": {},
     "output_type": "execute_result"
    }
   ],
   "source": [
    "# fazer regressor do dados_rotacao.csv\n",
    "df = pd.read_csv('dados_rotacao.csv')\n",
    "df.head()"
   ]
  },
  {
   "cell_type": "code",
   "execution_count": 11,
   "metadata": {},
   "outputs": [
    {
     "name": "stdout",
     "output_type": "stream",
     "text": [
      "          x         y         z  atencao\n",
      "0  0.036085 -0.038868 -0.416142        1\n",
      "1 -0.046903 -0.024344  0.203392        1\n",
      "2  0.036148 -0.009251  0.735759        1\n",
      "3  0.096135 -0.002680  0.511495        1\n",
      "4  0.116721 -0.004258  0.569732        1\n"
     ]
    }
   ],
   "source": [
    "# retirar os [] das colunas x, y e z\n",
    "df['x'] = df['x'].str.replace('[', '')\n",
    "df['y'] = df['y'].str.replace('[', '')\n",
    "df['z'] = df['z'].str.replace('[', '')\n",
    "\n",
    "df['x'] = df['x'].str.replace(']', '')\n",
    "df['y'] = df['y'].str.replace(']', '')\n",
    "df['z'] = df['z'].str.replace(']', '')\n",
    "\n",
    "# converter as colunas x, y e z para float\n",
    "df['x'] = df['x'].astype(float)\n",
    "df['y'] = df['y'].astype(float)\n",
    "df['z'] = df['z'].astype(float)\n",
    "\n",
    "# converter a coluna atencao para int\n",
    "df['atencao'] = df['atencao'].astype(int)\n",
    "\n",
    "print(df.head())"
   ]
  },
  {
   "cell_type": "code",
   "execution_count": 12,
   "metadata": {},
   "outputs": [],
   "source": [
    "# separar os dados de treino e teste\n",
    "from sklearn.model_selection import train_test_split\n",
    "\n",
    "X = df[['x', 'y', 'z']]\n",
    "y = df['atencao']\n",
    "\n",
    "X_train, X_test, y_train, y_test = train_test_split(X, y, test_size=0.3)"
   ]
  },
  {
   "cell_type": "code",
   "execution_count": 13,
   "metadata": {},
   "outputs": [
    {
     "data": {
      "text/html": [
       "<div>\n",
       "<style scoped>\n",
       "    .dataframe tbody tr th:only-of-type {\n",
       "        vertical-align: middle;\n",
       "    }\n",
       "\n",
       "    .dataframe tbody tr th {\n",
       "        vertical-align: top;\n",
       "    }\n",
       "\n",
       "    .dataframe thead th {\n",
       "        text-align: right;\n",
       "    }\n",
       "</style>\n",
       "<table border=\"1\" class=\"dataframe\">\n",
       "  <thead>\n",
       "    <tr style=\"text-align: right;\">\n",
       "      <th></th>\n",
       "      <th>x</th>\n",
       "      <th>y</th>\n",
       "      <th>z</th>\n",
       "    </tr>\n",
       "  </thead>\n",
       "  <tbody>\n",
       "    <tr>\n",
       "      <th>38</th>\n",
       "      <td>-0.176528</td>\n",
       "      <td>-0.021768</td>\n",
       "      <td>0.797403</td>\n",
       "    </tr>\n",
       "    <tr>\n",
       "      <th>17</th>\n",
       "      <td>0.041367</td>\n",
       "      <td>0.036008</td>\n",
       "      <td>0.666076</td>\n",
       "    </tr>\n",
       "    <tr>\n",
       "      <th>3</th>\n",
       "      <td>0.096135</td>\n",
       "      <td>-0.002680</td>\n",
       "      <td>0.511495</td>\n",
       "    </tr>\n",
       "    <tr>\n",
       "      <th>68</th>\n",
       "      <td>0.266182</td>\n",
       "      <td>0.084332</td>\n",
       "      <td>0.694816</td>\n",
       "    </tr>\n",
       "    <tr>\n",
       "      <th>58</th>\n",
       "      <td>0.187234</td>\n",
       "      <td>0.217585</td>\n",
       "      <td>0.621867</td>\n",
       "    </tr>\n",
       "  </tbody>\n",
       "</table>\n",
       "</div>"
      ],
      "text/plain": [
       "           x         y         z\n",
       "38 -0.176528 -0.021768  0.797403\n",
       "17  0.041367  0.036008  0.666076\n",
       "3   0.096135 -0.002680  0.511495\n",
       "68  0.266182  0.084332  0.694816\n",
       "58  0.187234  0.217585  0.621867"
      ]
     },
     "execution_count": 13,
     "metadata": {},
     "output_type": "execute_result"
    }
   ],
   "source": [
    "X_train.head()"
   ]
  },
  {
   "cell_type": "code",
   "execution_count": 20,
   "metadata": {},
   "outputs": [
    {
     "name": "stdout",
     "output_type": "stream",
     "text": [
      "[01:40:44] WARNING: C:/Users/Administrator/workspace/xgboost-win64_release_1.5.1/src/learner.cc:1115: Starting in XGBoost 1.3.0, the default evaluation metric used with the objective 'binary:logistic' was changed from 'error' to 'logloss'. Explicitly set eval_metric if you'd like to restore the old behavior.\n",
      "Accuracy: 0.9655172413793104\n"
     ]
    },
    {
     "name": "stderr",
     "output_type": "stream",
     "text": [
      "c:\\Users\\alexa\\anaconda3\\envs\\py36\\lib\\site-packages\\xgboost\\sklearn.py:1224: UserWarning: The use of label encoder in XGBClassifier is deprecated and will be removed in a future release. To remove this warning, do the following: 1) Pass option use_label_encoder=False when constructing XGBClassifier object; and 2) Encode your labels (y) as integers starting with 0, i.e. 0, 1, 2, ..., [num_class - 1].\n",
      "  warnings.warn(label_encoder_deprecation_msg, UserWarning)\n"
     ]
    }
   ],
   "source": [
    "# testar com xgbooost\n",
    "from xgboost import XGBClassifier\n",
    "\n",
    "xgb = XGBClassifier()\n",
    "\n",
    "xgb.fit(X_train, y_train)\n",
    "\n",
    "predictions = xgb.predict(X_test)\n",
    "\n",
    "# print the accuracy\n",
    "from sklearn import metrics\n",
    "\n",
    "print(\"Accuracy:\", metrics.accuracy_score(y_test, predictions))"
   ]
  },
  {
   "cell_type": "code",
   "execution_count": 18,
   "metadata": {},
   "outputs": [],
   "source": [
    "# salvar o modelo\n",
    "import pickle\n",
    "\n",
    "pickle.dump(xgb, open('model.pkl', 'wb'))"
   ]
  },
  {
   "cell_type": "code",
   "execution_count": 28,
   "metadata": {},
   "outputs": [
    {
     "name": "stdout",
     "output_type": "stream",
     "text": [
      "0.9741\n"
     ]
    }
   ],
   "source": [
    "# carregar o modelo\n",
    "model = pickle.load(open('model.pkl', 'rb'))\n",
    "\n",
    "values = np.array([[0.0, 0.0, 0.0]])\n",
    "\n",
    "columns = ['x', 'y', 'z']\n",
    "\n",
    "df = pd.DataFrame(values, columns=columns)\n",
    "# testar o modelo\n",
    "print(model.predict_proba(df)[0][1])"
   ]
  }
 ],
 "metadata": {
  "kernelspec": {
   "display_name": "py36",
   "language": "python",
   "name": "python3"
  },
  "language_info": {
   "codemirror_mode": {
    "name": "ipython",
    "version": 3
   },
   "file_extension": ".py",
   "mimetype": "text/x-python",
   "name": "python",
   "nbconvert_exporter": "python",
   "pygments_lexer": "ipython3",
   "version": "3.6.13"
  },
  "orig_nbformat": 4
 },
 "nbformat": 4,
 "nbformat_minor": 2
}

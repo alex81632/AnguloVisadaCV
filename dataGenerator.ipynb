{
 "cells": [
  {
   "cell_type": "code",
   "execution_count": 16,
   "metadata": {},
   "outputs": [],
   "source": [
    "import numpy as np\n",
    "import pandas as pd\n",
    "import time"
   ]
  },
  {
   "cell_type": "code",
   "execution_count": 17,
   "metadata": {},
   "outputs": [],
   "source": [
    "columns = ['tempo', 'media', 'alunos']\n",
    "# adicionar colunas id0 ate id10\n",
    "columns.extend([f\"id{i}\" for i in range(11)])\n",
    "\n",
    "df = pd.DataFrame(columns=columns)"
   ]
  },
  {
   "cell_type": "code",
   "execution_count": 26,
   "metadata": {},
   "outputs": [],
   "source": [
    "# gerar valores randomicos de 0 a 1 para cada aluno, o tempo a cada 30s e tabela no formato dd/mm/yyyy hh:mm:ss\n",
    "# data inicial 01/03/2023 as 8:00\n",
    "date = time.strptime(\"01/03/2023 08:00:00\", \"%d/%m/%Y %H:%M:%S\")\n",
    "\n",
    "for dias in range(150):\n",
    "    # escolher um numero de alunos aleatorio entre 1 e 11\n",
    "    alunosTotais = np.random.randint(1, 12)\n",
    "    for tempo in range(0, 3000, 30):\n",
    "        # gerar 11 valores randomicos de 0 a 1\n",
    "        valores = np.random.rand(alunosTotais)\n",
    "        # gerar a data\n",
    "        data = time.strftime(\"%d/%m/%Y %H:%M:%S\", date)\n",
    "        # gerar a media\n",
    "        media = np.mean(valores)\n",
    "        # gerar o numero de alunos\n",
    "        alunos = len(valores)\n",
    "        # gerar a linha\n",
    "        linha = [data, media, alunos]\n",
    "        # adicionar zeros ate o numero de alunos ser 11\n",
    "        valores = np.append(valores, np.zeros(11 - alunos))\n",
    "        # adicionar os valores\n",
    "        linha.extend(valores)\n",
    "        # adicionar a linha na tabela\n",
    "        df.loc[len(df)] = linha\n",
    "        # adicionar 30s a data\n",
    "        date = time.localtime(time.mktime(date) + 30)\n",
    "    date = time.localtime(time.mktime(date) + 2*3600*24 - 3000)"
   ]
  },
  {
   "cell_type": "code",
   "execution_count": 25,
   "metadata": {},
   "outputs": [],
   "source": [
    "df.to_csv(\"resource.csv\", index=False)"
   ]
  }
 ],
 "metadata": {
  "kernelspec": {
   "display_name": "py36",
   "language": "python",
   "name": "python3"
  },
  "language_info": {
   "codemirror_mode": {
    "name": "ipython",
    "version": 3
   },
   "file_extension": ".py",
   "mimetype": "text/x-python",
   "name": "python",
   "nbconvert_exporter": "python",
   "pygments_lexer": "ipython3",
   "version": "3.6.13"
  },
  "orig_nbformat": 4
 },
 "nbformat": 4,
 "nbformat_minor": 2
}
